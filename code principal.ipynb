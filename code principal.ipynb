import pyautogui
import pyperclip
import time

pyautogui.PAUSE = 1

pyautogui.hotkey("ctrl", "t")
pyautogui.write("sua url obs: google drive ") 
pyautogui.press("enter")

time.sleep(10)

pyautogui.click(x=344, y=316, clicks=2)
time.sleep(2)

pyautogui.click(x=396, y=446)
pyautogui.click(x=1156 ,y=206)
pyautogui.click(x=1006, y=601)
time.sleep(5)

import pandas as pd

tabela = pd.read_excel(r"seu arquivo uso: xlsx")
display(tabela)
faturamento = tabela["Valor Final"].sum()
quantidade = tabela["Quantidade"].sum()

pyautogui.hotkey("ctrl", "t")
pyautogui.write("https://mail.google.com/mail/u/0/#inbox")
pyautogui.press('enter')
time.sleep(30)

pyautogui.click(x=65, y=212)
time.sleep(20)

pyautogui.write("destinatario")
pyautogui.press("tab")
time.sleep(10)
pyautogui.press("tab")
pyautogui.write("relatório de vendas")
pyautogui.press("tab")
time.sleep(5)

texto = f"""
Prezado, ....
segundo a planilha em excel 
O faturamento de ontem foi de: R${faturamento:,.2f}
A quantidade de produtos foi de: {quantidade:,}

, atenciosamente. Arley."""

pyautogui.write(texto)
pyautogui.hotkey("ctrl","enter")
